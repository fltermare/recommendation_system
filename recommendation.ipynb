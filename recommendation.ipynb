{
 "cells": [
  {
   "cell_type": "code",
   "execution_count": 1,
   "metadata": {},
   "outputs": [],
   "source": [
    "import numpy as np\n",
    "import pandas as pd\n",
    "import tensorflow as tf\n",
    "from sklearn.model_selection import train_test_split\n",
    "from sklearn.utils import shuffle\n",
    "from tensorflow.keras import optimizers\n",
    "from tensorflow.keras import backend as K\n",
    "from tensorflow.keras.callbacks import EarlyStopping, ModelCheckpoint\n",
    "from tensorflow.keras.layers import Add, Dense, Dot, Dropout, Embedding, Input, Reshape\n",
    "from tensorflow.keras.models import Model\n",
    "from tensorflow.keras.regularizers import l2"
   ]
  },
  {
   "cell_type": "markdown",
   "metadata": {},
   "source": [
    "# Load Dataset & Preprocessing"
   ]
  },
  {
   "cell_type": "code",
   "execution_count": 2,
   "metadata": {},
   "outputs": [],
   "source": [
    "ori_df = pd.read_csv(\"./collab_mapped.csv\")\n",
    "ori_df[\"completion\"] = ori_df[\"completion\"].clip(0, 1)"
   ]
  },
  {
   "cell_type": "code",
   "execution_count": 3,
   "metadata": {},
   "outputs": [
    {
     "data": {
      "text/plain": [
       "<AxesSubplot:>"
      ]
     },
     "execution_count": 3,
     "metadata": {},
     "output_type": "execute_result"
    },
    {
     "data": {
      "image/png": "[encoded data removed]",
      "text/plain": [
       "<Figure size 432x288 with 1 Axes>"
      ]
     },
     "metadata": {
      "needs_background": "light"
     },
     "output_type": "display_data"
    }
   ],
   "source": [
    "ori_df[\"completion\"].hist()"
   ]
  },
  {
   "cell_type": "markdown",
   "metadata": {},
   "source": [
    "### Data Wrangling\n",
    "Try to make the dataset into a long tail distribution\n",
    "- undersample the number of data with `completion == 1` to the same as the number of data with `0.9 < completion < 1`\n",
    "\n",
    "In this way, we reduce `val_mae` from `0.22` to `0.16`"
   ]
  },
  {
   "cell_type": "code",
   "execution_count": 4,
   "metadata": {},
   "outputs": [],
   "source": [
    "# completion < 1\n",
    "df_less_than_1 = ori_df.loc[ori_df[\"completion\"] < 1]\n",
    "\n",
    "# undersample data with completion == 1\n",
    "desired_num_completion_equal_1 = ori_df.loc[(ori_df['completion'] > 0.9) & (ori_df['completion'] < 1)].shape[0]\n",
    "df_equal_1 = ori_df.loc[ori_df[\"completion\"] == 1].sample(desired_num_completion_equal_1)"
   ]
  },
  {
   "cell_type": "code",
   "execution_count": 5,
   "metadata": {},
   "outputs": [],
   "source": [
    "df = pd.concat([df_less_than_1, df_equal_1])"
   ]
  },
  {
   "cell_type": "code",
   "execution_count": 6,
   "metadata": {},
   "outputs": [
    {
     "data": {
      "text/plain": [
       "<AxesSubplot:>"
      ]
     },
     "execution_count": 6,
     "metadata": {},
     "output_type": "execute_result"
    },
    {
     "data": {
      "image/png": "[encoded data removed]",
      "text/plain": [
       "<Figure size 432x288 with 1 Axes>"
      ]
     },
     "metadata": {
      "needs_background": "light"
     },
     "output_type": "display_data"
    }
   ],
   "source": [
    "df[\"completion\"].hist()"
   ]
  },
  {
   "cell_type": "code",
   "execution_count": 7,
   "metadata": {},
   "outputs": [
    {
     "name": "stdout",
     "output_type": "stream",
     "text": [
      "Removed 4653 records (completion == 1)\n"
     ]
    },
    {
     "data": {
      "text/html": [
       "<div>\n",
       "<style scoped>\n",
       "    .dataframe tbody tr th:only-of-type {\n",
       "        vertical-align: middle;\n",
       "    }\n",
       "\n",
       "    .dataframe tbody tr th {\n",
       "        vertical-align: top;\n",
       "    }\n",
       "\n",
       "    .dataframe thead th {\n",
       "        text-align: right;\n",
       "    }\n",
       "</style>\n",
       "<table border=\"1\" class=\"dataframe\">\n",
       "  <thead>\n",
       "    <tr style=\"text-align: right;\">\n",
       "      <th></th>\n",
       "      <th>user_index</th>\n",
       "      <th>item_index</th>\n",
       "      <th>completion</th>\n",
       "    </tr>\n",
       "  </thead>\n",
       "  <tbody>\n",
       "    <tr>\n",
       "      <th>count</th>\n",
       "      <td>26285.000000</td>\n",
       "      <td>26285.000000</td>\n",
       "      <td>26285.000000</td>\n",
       "    </tr>\n",
       "    <tr>\n",
       "      <th>mean</th>\n",
       "      <td>234.672399</td>\n",
       "      <td>115.430131</td>\n",
       "      <td>0.211810</td>\n",
       "    </tr>\n",
       "    <tr>\n",
       "      <th>std</th>\n",
       "      <td>137.997706</td>\n",
       "      <td>72.755107</td>\n",
       "      <td>0.276236</td>\n",
       "    </tr>\n",
       "    <tr>\n",
       "      <th>min</th>\n",
       "      <td>0.000000</td>\n",
       "      <td>0.000000</td>\n",
       "      <td>0.000000</td>\n",
       "    </tr>\n",
       "    <tr>\n",
       "      <th>25%</th>\n",
       "      <td>111.000000</td>\n",
       "      <td>53.000000</td>\n",
       "      <td>0.033333</td>\n",
       "    </tr>\n",
       "    <tr>\n",
       "      <th>50%</th>\n",
       "      <td>234.000000</td>\n",
       "      <td>108.000000</td>\n",
       "      <td>0.068966</td>\n",
       "    </tr>\n",
       "    <tr>\n",
       "      <th>75%</th>\n",
       "      <td>356.000000</td>\n",
       "      <td>172.000000</td>\n",
       "      <td>0.310345</td>\n",
       "    </tr>\n",
       "    <tr>\n",
       "      <th>max</th>\n",
       "      <td>476.000000</td>\n",
       "      <td>267.000000</td>\n",
       "      <td>1.000000</td>\n",
       "    </tr>\n",
       "  </tbody>\n",
       "</table>\n",
       "</div>"
      ],
      "text/plain": [
       "         user_index    item_index    completion\n",
       "count  26285.000000  26285.000000  26285.000000\n",
       "mean     234.672399    115.430131      0.211810\n",
       "std      137.997706     72.755107      0.276236\n",
       "min        0.000000      0.000000      0.000000\n",
       "25%      111.000000     53.000000      0.033333\n",
       "50%      234.000000    108.000000      0.068966\n",
       "75%      356.000000    172.000000      0.310345\n",
       "max      476.000000    267.000000      1.000000"
      ]
     },
     "execution_count": 7,
     "metadata": {},
     "output_type": "execute_result"
    }
   ],
   "source": [
    "print(\"Removed {} records (completion == 1)\".format(ori_df.shape[0] - df.shape[0]))\n",
    "df.describe()"
   ]
  },
  {
   "cell_type": "code",
   "execution_count": 8,
   "metadata": {},
   "outputs": [],
   "source": [
    "uniq_user = df[\"user_index\"].unique()\n",
    "uniq_item = df[\"item_index\"].unique()\n",
    "assert len(uniq_user) == max(uniq_user) + 1\n",
    "assert len(uniq_item) == max(uniq_item) + 1"
   ]
  },
  {
   "cell_type": "markdown",
   "metadata": {},
   "source": [
    "# Configuration"
   ]
  },
  {
   "cell_type": "code",
   "execution_count": 9,
   "metadata": {},
   "outputs": [],
   "source": [
    "MODEL_PATH = \"./SavedModel/model.h5\"\n",
    "NUM_USER = len(df[\"user_index\"].unique())\n",
    "NUM_ITEM = len(df[\"item_index\"].unique())\n",
    "LATENT_DIM = 5"
   ]
  },
  {
   "cell_type": "markdown",
   "metadata": {},
   "source": [
    "# Train the Model"
   ]
  },
  {
   "cell_type": "code",
   "execution_count": 10,
   "metadata": {},
   "outputs": [],
   "source": [
    "def gen_dataset(df, test_size=0.2):\n",
    "    # Shuffle\n",
    "    df = shuffle(df)\n",
    "\n",
    "    # Split\n",
    "    X, y = df[[\"user_index\", \"item_index\"]].values, df[[\"completion\"]].values\n",
    "    X_train, X_test, y_train, y_test = train_test_split(X, y, test_size=test_size)\n",
    "    \n",
    "    return X_train, X_test, y_train, y_test"
   ]
  },
  {
   "cell_type": "code",
   "execution_count": 11,
   "metadata": {},
   "outputs": [],
   "source": [
    "def mf_model(n_user, n_item, latent_dim):\n",
    "    \"\"\" Matrix factorization model\n",
    "    \"\"\"\n",
    "\n",
    "    # Input\n",
    "    user_input = Input(shape=[1])\n",
    "    item_input = Input(shape=[1])\n",
    "    \n",
    "    # To Latent Vector\n",
    "    user_latent = Embedding(n_user, latent_dim, embeddings_initializer=\"lecun_uniform\",\n",
    "                            embeddings_regularizer=l2(1e-5))(user_input)\n",
    "    user_latent = Reshape((latent_dim,))(user_latent)\n",
    "    user_latent = Dropout(0.1)(user_latent)\n",
    "    \n",
    "    item_latent = Embedding(n_item, latent_dim, embeddings_initializer=\"lecun_uniform\",\n",
    "                            embeddings_regularizer=l2(1e-5))(item_input)\n",
    "    item_latent = Reshape((latent_dim,))(item_latent)\n",
    "    item_latent = Dropout(0.1)(item_latent)\n",
    "\n",
    "    # Add Bias\n",
    "    user_bias = Embedding(n_user, 1, embeddings_regularizer=l2(1e-5))(user_input)\n",
    "    user_bias = Reshape((1,))(user_bias)\n",
    "    \n",
    "    item_bias = Embedding(n_item, 1, embeddings_regularizer=l2(1e-5))(item_input)\n",
    "    item_bias = Reshape((1,))(item_bias)\n",
    "    \n",
    "    # Dot\n",
    "    r_hat = Dot(axes=-1)([user_latent, item_latent])\n",
    "    r_hat = Add()([r_hat, user_bias, item_bias])    \n",
    "    output = Dense(1, kernel_regularizer=l2(0.01))(r_hat)\n",
    "    \n",
    "    model = Model(inputs=[user_input, item_input], outputs=[output])\n",
    "\n",
    "    return model"
   ]
  },
  {
   "cell_type": "code",
   "execution_count": 12,
   "metadata": {},
   "outputs": [],
   "source": [
    "def train_model(df, latent_dim=20):\n",
    "    # Load data\n",
    "    X_train, X_test, y_train, y_test = gen_dataset(df)\n",
    "    \n",
    "    # Load matrix factorization model\n",
    "    model = mf_model(NUM_USER, NUM_ITEM, latent_dim)\n",
    "    model.compile(loss=\"mae\", optimizer=optimizers.Adam(), metrics=[\"mae\"])\n",
    "    model.summary()\n",
    "    \n",
    "    # callbacks\n",
    "    early_stop = EarlyStopping(monitor=\"val_mae\", patience=3)\n",
    "    checkpoint_filepath = MODEL_PATH\n",
    "    model_checkpoint = ModelCheckpoint(\n",
    "        filepath=checkpoint_filepath,\n",
    "        save_weights_only=True,\n",
    "        monitor=\"val_mae\",\n",
    "        verbose=1,\n",
    "        save_best_only=True,\n",
    "    )\n",
    "    \n",
    "    # Train Model\n",
    "    history = model.fit([X_train[:, 0], X_train[:, 1]], [y_train],\n",
    "                        validation_data=([X_test[:, 0], X_test[:, 1]], [y_test]),\n",
    "                        batch_size=512,\n",
    "                        epochs=50,\n",
    "                        callbacks=[early_stop, model_checkpoint])\n",
    "    \n",
    "    # Save Model\n",
    "    model.save(checkpoint_filepath)\n",
    "\n",
    "    return model, history"
   ]
  },
  {
   "cell_type": "code",
   "execution_count": 13,
   "metadata": {},
   "outputs": [
    {
     "name": "stdout",
     "output_type": "stream",
     "text": [
      "Model: \"functional_1\"\n",
      "__________________________________________________________________________________________________\n",
      "Layer (type)                    Output Shape         Param #     Connected to                     \n",
      "==================================================================================================\n",
      "input_1 (InputLayer)            [(None, 1)]          0                                            \n",
      "__________________________________________________________________________________________________\n",
      "input_2 (InputLayer)            [(None, 1)]          0                                            \n",
      "__________________________________________________________________________________________________\n",
      "embedding (Embedding)           (None, 1, 5)         2385        input_1[0][0]                    \n",
      "__________________________________________________________________________________________________\n",
      "embedding_1 (Embedding)         (None, 1, 5)         1340        input_2[0][0]                    \n",
      "__________________________________________________________________________________________________\n",
      "reshape (Reshape)               (None, 5)            0           embedding[0][0]                  \n",
      "__________________________________________________________________________________________________\n",
      "reshape_1 (Reshape)             (None, 5)            0           embedding_1[0][0]                \n",
      "__________________________________________________________________________________________________\n",
      "dropout (Dropout)               (None, 5)            0           reshape[0][0]                    \n",
      "__________________________________________________________________________________________________\n",
      "dropout_1 (Dropout)             (None, 5)            0           reshape_1[0][0]                  \n",
      "__________________________________________________________________________________________________\n",
      "embedding_2 (Embedding)         (None, 1, 1)         477         input_1[0][0]                    \n",
      "__________________________________________________________________________________________________\n",
      "embedding_3 (Embedding)         (None, 1, 1)         268         input_2[0][0]                    \n",
      "__________________________________________________________________________________________________\n",
      "dot (Dot)                       (None, 1)            0           dropout[0][0]                    \n",
      "                                                                 dropout_1[0][0]                  \n",
      "__________________________________________________________________________________________________\n",
      "reshape_2 (Reshape)             (None, 1)            0           embedding_2[0][0]                \n",
      "__________________________________________________________________________________________________\n",
      "reshape_3 (Reshape)             (None, 1)            0           embedding_3[0][0]                \n",
      "__________________________________________________________________________________________________\n",
      "add (Add)                       (None, 1)            0           dot[0][0]                        \n",
      "                                                                 reshape_2[0][0]                  \n",
      "                                                                 reshape_3[0][0]                  \n",
      "__________________________________________________________________________________________________\n",
      "dense (Dense)                   (None, 1)            2           add[0][0]                        \n",
      "==================================================================================================\n",
      "Total params: 4,472\n",
      "Trainable params: 4,472\n",
      "Non-trainable params: 0\n",
      "__________________________________________________________________________________________________\n",
      "Epoch 1/50\n"
     ]
    },
    {
     "name": "stderr",
     "output_type": "stream",
     "text": [
      "/home/albert/Documents/recommendation_system/ENV/lib/python3.6/site-packages/tensorflow/python/framework/indexed_slices.py:433: UserWarning: Converting sparse IndexedSlices to a dense Tensor of unknown shape. This may consume a large amount of memory.\n",
      "  \"Converting sparse IndexedSlices to a dense Tensor of unknown shape. \"\n"
     ]
    },
    {
     "name": "stdout",
     "output_type": "stream",
     "text": [
      " 1/42 [..............................] - ETA: 0s - loss: 0.2481 - mae: 0.2249\n",
      "Epoch 00001: val_mae improved from inf to 0.18415, saving model to ./SavedModel/model.h5\n",
      "42/42 [==============================] - 0s 5ms/step - loss: 0.2205 - mae: 0.1980 - val_loss: 0.2061 - val_mae: 0.1842\n",
      "Epoch 2/50\n",
      " 1/42 [..............................] - ETA: 0s - loss: 0.2174 - mae: 0.1955\n",
      "Epoch 00002: val_mae improved from 0.18415 to 0.17299, saving model to ./SavedModel/model.h5\n",
      "42/42 [==============================] - 0s 2ms/step - loss: 0.1946 - mae: 0.1732 - val_loss: 0.1939 - val_mae: 0.1730\n",
      "Epoch 3/50\n",
      " 1/42 [..............................] - ETA: 0s - loss: 0.1934 - mae: 0.1725\n",
      "Epoch 00003: val_mae improved from 0.17299 to 0.16819, saving model to ./SavedModel/model.h5\n",
      "42/42 [==============================] - 0s 2ms/step - loss: 0.1850 - mae: 0.1645 - val_loss: 0.1882 - val_mae: 0.1682\n",
      "Epoch 4/50\n",
      " 1/42 [..............................] - ETA: 0s - loss: 0.1814 - mae: 0.1614\n",
      "Epoch 00004: val_mae improved from 0.16819 to 0.16557, saving model to ./SavedModel/model.h5\n",
      "42/42 [==============================] - 0s 2ms/step - loss: 0.1799 - mae: 0.1603 - val_loss: 0.1846 - val_mae: 0.1656\n",
      "Epoch 5/50\n",
      " 1/42 [..............................] - ETA: 0s - loss: 0.1736 - mae: 0.1545\n",
      "Epoch 00005: val_mae improved from 0.16557 to 0.16433, saving model to ./SavedModel/model.h5\n",
      "42/42 [==============================] - 0s 2ms/step - loss: 0.1766 - mae: 0.1579 - val_loss: 0.1825 - val_mae: 0.1643\n",
      "Epoch 6/50\n",
      " 1/42 [..............................] - ETA: 0s - loss: 0.1791 - mae: 0.1609\n",
      "Epoch 00006: val_mae improved from 0.16433 to 0.16365, saving model to ./SavedModel/model.h5\n",
      "42/42 [==============================] - 0s 2ms/step - loss: 0.1741 - mae: 0.1563 - val_loss: 0.1809 - val_mae: 0.1636\n",
      "Epoch 7/50\n",
      " 1/42 [..............................] - ETA: 0s - loss: 0.1629 - mae: 0.1456\n",
      "Epoch 00007: val_mae improved from 0.16365 to 0.16304, saving model to ./SavedModel/model.h5\n",
      "42/42 [==============================] - 0s 2ms/step - loss: 0.1718 - mae: 0.1549 - val_loss: 0.1795 - val_mae: 0.1630\n",
      "Epoch 8/50\n",
      " 1/42 [..............................] - ETA: 0s - loss: 0.1688 - mae: 0.1524\n",
      "Epoch 00008: val_mae improved from 0.16304 to 0.16276, saving model to ./SavedModel/model.h5\n",
      "42/42 [==============================] - 0s 2ms/step - loss: 0.1699 - mae: 0.1539 - val_loss: 0.1784 - val_mae: 0.1628\n",
      "Epoch 9/50\n",
      " 1/42 [..............................] - ETA: 0s - loss: 0.1604 - mae: 0.1448\n",
      "Epoch 00009: val_mae improved from 0.16276 to 0.16240, saving model to ./SavedModel/model.h5\n",
      "42/42 [==============================] - 0s 2ms/step - loss: 0.1682 - mae: 0.1530 - val_loss: 0.1773 - val_mae: 0.1624\n",
      "Epoch 10/50\n",
      " 1/42 [..............................] - ETA: 0s - loss: 0.1669 - mae: 0.1520\n",
      "Epoch 00010: val_mae improved from 0.16240 to 0.16223, saving model to ./SavedModel/model.h5\n",
      "42/42 [==============================] - 0s 2ms/step - loss: 0.1667 - mae: 0.1522 - val_loss: 0.1764 - val_mae: 0.1622\n",
      "Epoch 11/50\n",
      " 1/42 [..............................] - ETA: 0s - loss: 0.1676 - mae: 0.1535\n",
      "Epoch 00011: val_mae improved from 0.16223 to 0.16210, saving model to ./SavedModel/model.h5\n",
      "42/42 [==============================] - 0s 2ms/step - loss: 0.1652 - mae: 0.1513 - val_loss: 0.1756 - val_mae: 0.1621\n",
      "Epoch 12/50\n",
      " 1/42 [..............................] - ETA: 0s - loss: 0.1438 - mae: 0.1304\n",
      "Epoch 00012: val_mae improved from 0.16210 to 0.16194, saving model to ./SavedModel/model.h5\n",
      "42/42 [==============================] - 0s 2ms/step - loss: 0.1638 - mae: 0.1507 - val_loss: 0.1748 - val_mae: 0.1619\n",
      "Epoch 13/50\n",
      " 1/42 [..............................] - ETA: 0s - loss: 0.1627 - mae: 0.1499\n",
      "Epoch 00013: val_mae improved from 0.16194 to 0.16172, saving model to ./SavedModel/model.h5\n",
      "42/42 [==============================] - 0s 2ms/step - loss: 0.1624 - mae: 0.1499 - val_loss: 0.1740 - val_mae: 0.1617\n",
      "Epoch 14/50\n",
      " 1/42 [..............................] - ETA: 0s - loss: 0.1499 - mae: 0.1377\n",
      "Epoch 00014: val_mae improved from 0.16172 to 0.16165, saving model to ./SavedModel/model.h5\n",
      "42/42 [==============================] - 0s 2ms/step - loss: 0.1612 - mae: 0.1492 - val_loss: 0.1734 - val_mae: 0.1617\n",
      "Epoch 15/50\n",
      " 1/42 [..............................] - ETA: 0s - loss: 0.1624 - mae: 0.1507\n",
      "Epoch 00015: val_mae improved from 0.16165 to 0.16155, saving model to ./SavedModel/model.h5\n",
      "42/42 [==============================] - 0s 2ms/step - loss: 0.1599 - mae: 0.1485 - val_loss: 0.1728 - val_mae: 0.1616\n",
      "Epoch 16/50\n",
      " 1/42 [..............................] - ETA: 0s - loss: 0.1683 - mae: 0.1571\n",
      "Epoch 00016: val_mae improved from 0.16155 to 0.16147, saving model to ./SavedModel/model.h5\n",
      "42/42 [==============================] - 0s 2ms/step - loss: 0.1586 - mae: 0.1477 - val_loss: 0.1722 - val_mae: 0.1615\n",
      "Epoch 17/50\n",
      " 1/42 [..............................] - ETA: 0s - loss: 0.1506 - mae: 0.1399\n",
      "Epoch 00017: val_mae improved from 0.16147 to 0.16144, saving model to ./SavedModel/model.h5\n",
      "42/42 [==============================] - 0s 2ms/step - loss: 0.1577 - mae: 0.1471 - val_loss: 0.1718 - val_mae: 0.1614\n",
      "Epoch 18/50\n",
      " 1/42 [..............................] - ETA: 0s - loss: 0.1557 - mae: 0.1453\n",
      "Epoch 00018: val_mae improved from 0.16144 to 0.16133, saving model to ./SavedModel/model.h5\n",
      "42/42 [==============================] - 0s 2ms/step - loss: 0.1565 - mae: 0.1463 - val_loss: 0.1713 - val_mae: 0.1613\n",
      "Epoch 19/50\n",
      " 1/42 [..............................] - ETA: 0s - loss: 0.1477 - mae: 0.1377\n",
      "Epoch 00019: val_mae improved from 0.16133 to 0.16118, saving model to ./SavedModel/model.h5\n",
      "42/42 [==============================] - 0s 2ms/step - loss: 0.1557 - mae: 0.1458 - val_loss: 0.1709 - val_mae: 0.1612\n",
      "Epoch 20/50\n",
      " 1/42 [..............................] - ETA: 0s - loss: 0.1510 - mae: 0.1413\n",
      "Epoch 00020: val_mae improved from 0.16118 to 0.16114, saving model to ./SavedModel/model.h5\n",
      "42/42 [==============================] - 0s 2ms/step - loss: 0.1546 - mae: 0.1450 - val_loss: 0.1706 - val_mae: 0.1611\n",
      "Epoch 21/50\n",
      " 1/42 [..............................] - ETA: 0s - loss: 0.1507 - mae: 0.1413\n",
      "Epoch 00021: val_mae improved from 0.16114 to 0.16110, saving model to ./SavedModel/model.h5\n",
      "42/42 [==============================] - 0s 2ms/step - loss: 0.1536 - mae: 0.1443 - val_loss: 0.1703 - val_mae: 0.1611\n",
      "Epoch 22/50\n",
      " 1/42 [..............................] - ETA: 0s - loss: 0.1405 - mae: 0.1313\n",
      "Epoch 00022: val_mae improved from 0.16110 to 0.16107, saving model to ./SavedModel/model.h5\n",
      "42/42 [==============================] - 0s 2ms/step - loss: 0.1527 - mae: 0.1436 - val_loss: 0.1700 - val_mae: 0.1611\n",
      "Epoch 23/50\n",
      " 1/42 [..............................] - ETA: 0s - loss: 0.1611 - mae: 0.1522\n",
      "Epoch 00023: val_mae improved from 0.16107 to 0.16101, saving model to ./SavedModel/model.h5\n",
      "42/42 [==============================] - 0s 2ms/step - loss: 0.1520 - mae: 0.1431 - val_loss: 0.1698 - val_mae: 0.1610\n",
      "Epoch 24/50\n",
      " 1/42 [..............................] - ETA: 0s - loss: 0.1463 - mae: 0.1375\n",
      "Epoch 00024: val_mae improved from 0.16101 to 0.16095, saving model to ./SavedModel/model.h5\n",
      "42/42 [==============================] - 0s 2ms/step - loss: 0.1511 - mae: 0.1425 - val_loss: 0.1695 - val_mae: 0.1610\n",
      "Epoch 25/50\n",
      " 1/42 [..............................] - ETA: 0s - loss: 0.1577 - mae: 0.1491\n",
      "Epoch 00025: val_mae improved from 0.16095 to 0.16093, saving model to ./SavedModel/model.h5\n",
      "42/42 [==============================] - 0s 2ms/step - loss: 0.1505 - mae: 0.1420 - val_loss: 0.1693 - val_mae: 0.1609\n",
      "Epoch 26/50\n",
      " 1/42 [..............................] - ETA: 0s - loss: 0.1610 - mae: 0.1526\n",
      "Epoch 00026: val_mae improved from 0.16093 to 0.16090, saving model to ./SavedModel/model.h5\n",
      "42/42 [==============================] - 0s 2ms/step - loss: 0.1499 - mae: 0.1416 - val_loss: 0.1691 - val_mae: 0.1609\n",
      "Epoch 27/50\n",
      " 1/42 [..............................] - ETA: 0s - loss: 0.1500 - mae: 0.1418\n",
      "Epoch 00027: val_mae improved from 0.16090 to 0.16089, saving model to ./SavedModel/model.h5\n",
      "42/42 [==============================] - 0s 2ms/step - loss: 0.1492 - mae: 0.1410 - val_loss: 0.1690 - val_mae: 0.1609\n",
      "Epoch 28/50\n",
      " 1/42 [..............................] - ETA: 0s - loss: 0.1443 - mae: 0.1362\n",
      "Epoch 00028: val_mae improved from 0.16089 to 0.16077, saving model to ./SavedModel/model.h5\n",
      "42/42 [==============================] - 0s 2ms/step - loss: 0.1484 - mae: 0.1404 - val_loss: 0.1687 - val_mae: 0.1608\n",
      "Epoch 29/50\n",
      " 1/42 [..............................] - ETA: 0s - loss: 0.1501 - mae: 0.1421\n",
      "Epoch 00029: val_mae improved from 0.16077 to 0.16074, saving model to ./SavedModel/model.h5\n",
      "42/42 [==============================] - 0s 2ms/step - loss: 0.1481 - mae: 0.1402 - val_loss: 0.1685 - val_mae: 0.1607\n",
      "Epoch 30/50\n",
      " 1/42 [..............................] - ETA: 0s - loss: 0.1623 - mae: 0.1545\n",
      "Epoch 00030: val_mae improved from 0.16074 to 0.16056, saving model to ./SavedModel/model.h5\n",
      "42/42 [==============================] - 0s 2ms/step - loss: 0.1473 - mae: 0.1396 - val_loss: 0.1683 - val_mae: 0.1606\n",
      "Epoch 31/50\n",
      " 1/42 [..............................] - ETA: 0s - loss: 0.1369 - mae: 0.1292\n",
      "Epoch 00031: val_mae did not improve from 0.16056\n",
      "42/42 [==============================] - 0s 2ms/step - loss: 0.1470 - mae: 0.1393 - val_loss: 0.1683 - val_mae: 0.1607\n",
      "Epoch 32/50\n",
      " 1/42 [..............................] - ETA: 0s - loss: 0.1484 - mae: 0.1408\n",
      "Epoch 00032: val_mae improved from 0.16056 to 0.16054, saving model to ./SavedModel/model.h5\n",
      "42/42 [==============================] - 0s 2ms/step - loss: 0.1465 - mae: 0.1389 - val_loss: 0.1681 - val_mae: 0.1605\n",
      "Epoch 33/50\n",
      " 1/42 [..............................] - ETA: 0s - loss: 0.1532 - mae: 0.1457\n",
      "Epoch 00033: val_mae improved from 0.16054 to 0.16053, saving model to ./SavedModel/model.h5\n",
      "42/42 [==============================] - 0s 2ms/step - loss: 0.1457 - mae: 0.1382 - val_loss: 0.1680 - val_mae: 0.1605\n",
      "Epoch 34/50\n",
      " 1/42 [..............................] - ETA: 0s - loss: 0.1425 - mae: 0.1351\n",
      "Epoch 00034: val_mae improved from 0.16053 to 0.16049, saving model to ./SavedModel/model.h5\n",
      "42/42 [==============================] - 0s 2ms/step - loss: 0.1456 - mae: 0.1383 - val_loss: 0.1678 - val_mae: 0.1605\n",
      "Epoch 35/50\n",
      " 1/42 [..............................] - ETA: 0s - loss: 0.1623 - mae: 0.1550\n",
      "Epoch 00035: val_mae did not improve from 0.16049\n",
      "42/42 [==============================] - 0s 2ms/step - loss: 0.1451 - mae: 0.1378 - val_loss: 0.1678 - val_mae: 0.1605\n",
      "Epoch 36/50\n",
      " 1/42 [..............................] - ETA: 0s - loss: 0.1524 - mae: 0.1452\n",
      "Epoch 00036: val_mae did not improve from 0.16049\n",
      "42/42 [==============================] - 0s 2ms/step - loss: 0.1445 - mae: 0.1374 - val_loss: 0.1677 - val_mae: 0.1605\n",
      "Epoch 37/50\n",
      " 1/42 [..............................] - ETA: 0s - loss: 0.1366 - mae: 0.1295\n",
      "Epoch 00037: val_mae did not improve from 0.16049\n",
      "42/42 [==============================] - 0s 1ms/step - loss: 0.1444 - mae: 0.1372 - val_loss: 0.1677 - val_mae: 0.1606\n"
     ]
    }
   ],
   "source": [
    "model, history = train_model(df, latent_dim=LATENT_DIM)"
   ]
  },
  {
   "cell_type": "markdown",
   "metadata": {},
   "source": [
    "# Plot Training Process"
   ]
  },
  {
   "cell_type": "code",
   "execution_count": 14,
   "metadata": {},
   "outputs": [],
   "source": [
    "import matplotlib.pyplot as plt\n",
    "\n",
    "def show_train_history(history, train_metric, test_metric):\n",
    "    plt.plot(history.history[train_metric])\n",
    "    plt.plot(history.history[test_metric])\n",
    "    plt.title(\"Train History\")\n",
    "    plt.ylabel(train_metric)\n",
    "    plt.xlabel(\"Epoch\")\n",
    "    plt.legend([\"train\", \"test\"], loc=\"upper right\")\n",
    "    plt.show()"
   ]
  },
  {
   "cell_type": "code",
   "execution_count": 15,
   "metadata": {},
   "outputs": [
    {
     "data": {
      "image/png": "[encoded data removed]",
      "text/plain": [
       "<Figure size 432x288 with 1 Axes>"
      ]
     },
     "metadata": {
      "needs_background": "light"
     },
     "output_type": "display_data"
    }
   ],
   "source": [
    "show_train_history(history, \"mae\", \"val_mae\")"
   ]
  },
  {
   "cell_type": "markdown",
   "metadata": {},
   "source": [
    "# Predict simulated data"
   ]
  },
  {
   "cell_type": "code",
   "execution_count": 16,
   "metadata": {},
   "outputs": [],
   "source": [
    "def predict(df):\n",
    "    # Load model\n",
    "    model_save_path = MODEL_PATH\n",
    "    model = tf.keras.models.load_model(model_save_path)\n",
    "\n",
    "    # Simulated predict data; 10% of whole data\n",
    "    pred_df = df[[\"user_index\", \"item_index\"]].sample(frac=0.1)\n",
    "    pred = pred_df.values\n",
    "    predition = model.predict([pred[:, 0], pred[:, 1]])\n",
    "\n",
    "    # Construct Result\n",
    "    pred_df[\"pred_completion\"] = predition.clip(0, 1)\n",
    "    return pred_df"
   ]
  },
  {
   "cell_type": "code",
   "execution_count": 17,
   "metadata": {},
   "outputs": [
    {
     "data": {
      "text/html": [
       "<div>\n",
       "<style scoped>\n",
       "    .dataframe tbody tr th:only-of-type {\n",
       "        vertical-align: middle;\n",
       "    }\n",
       "\n",
       "    .dataframe tbody tr th {\n",
       "        vertical-align: top;\n",
       "    }\n",
       "\n",
       "    .dataframe thead th {\n",
       "        text-align: right;\n",
       "    }\n",
       "</style>\n",
       "<table border=\"1\" class=\"dataframe\">\n",
       "  <thead>\n",
       "    <tr style=\"text-align: right;\">\n",
       "      <th></th>\n",
       "      <th>user_index</th>\n",
       "      <th>item_index</th>\n",
       "      <th>pred_completion</th>\n",
       "    </tr>\n",
       "  </thead>\n",
       "  <tbody>\n",
       "    <tr>\n",
       "      <th>17334</th>\n",
       "      <td>298</td>\n",
       "      <td>4</td>\n",
       "      <td>0.065731</td>\n",
       "    </tr>\n",
       "    <tr>\n",
       "      <th>12844</th>\n",
       "      <td>104</td>\n",
       "      <td>55</td>\n",
       "      <td>0.004490</td>\n",
       "    </tr>\n",
       "    <tr>\n",
       "      <th>29851</th>\n",
       "      <td>462</td>\n",
       "      <td>163</td>\n",
       "      <td>0.067800</td>\n",
       "    </tr>\n",
       "    <tr>\n",
       "      <th>7690</th>\n",
       "      <td>171</td>\n",
       "      <td>191</td>\n",
       "      <td>0.261559</td>\n",
       "    </tr>\n",
       "    <tr>\n",
       "      <th>1455</th>\n",
       "      <td>100</td>\n",
       "      <td>29</td>\n",
       "      <td>0.008500</td>\n",
       "    </tr>\n",
       "    <tr>\n",
       "      <th>...</th>\n",
       "      <td>...</td>\n",
       "      <td>...</td>\n",
       "      <td>...</td>\n",
       "    </tr>\n",
       "    <tr>\n",
       "      <th>16491</th>\n",
       "      <td>52</td>\n",
       "      <td>202</td>\n",
       "      <td>0.503975</td>\n",
       "    </tr>\n",
       "    <tr>\n",
       "      <th>29112</th>\n",
       "      <td>434</td>\n",
       "      <td>55</td>\n",
       "      <td>0.016652</td>\n",
       "    </tr>\n",
       "    <tr>\n",
       "      <th>10866</th>\n",
       "      <td>305</td>\n",
       "      <td>75</td>\n",
       "      <td>0.120183</td>\n",
       "    </tr>\n",
       "    <tr>\n",
       "      <th>10971</th>\n",
       "      <td>131</td>\n",
       "      <td>242</td>\n",
       "      <td>0.252261</td>\n",
       "    </tr>\n",
       "    <tr>\n",
       "      <th>8456</th>\n",
       "      <td>191</td>\n",
       "      <td>174</td>\n",
       "      <td>0.175820</td>\n",
       "    </tr>\n",
       "  </tbody>\n",
       "</table>\n",
       "<p>2628 rows × 3 columns</p>\n",
       "</div>"
      ],
      "text/plain": [
       "       user_index  item_index  pred_completion\n",
       "17334         298           4         0.065731\n",
       "12844         104          55         0.004490\n",
       "29851         462         163         0.067800\n",
       "7690          171         191         0.261559\n",
       "1455          100          29         0.008500\n",
       "...           ...         ...              ...\n",
       "16491          52         202         0.503975\n",
       "29112         434          55         0.016652\n",
       "10866         305          75         0.120183\n",
       "10971         131         242         0.252261\n",
       "8456          191         174         0.175820\n",
       "\n",
       "[2628 rows x 3 columns]"
      ]
     },
     "execution_count": 17,
     "metadata": {},
     "output_type": "execute_result"
    }
   ],
   "source": [
    "pred_res = predict(df)\n",
    "pred_res"
   ]
  },
  {
   "cell_type": "code",
   "execution_count": 18,
   "metadata": {},
   "outputs": [
    {
     "data": {
      "text/plain": [
       "<AxesSubplot:>"
      ]
     },
     "execution_count": 18,
     "metadata": {},
     "output_type": "execute_result"
    },
    {
     "data": {
      "image/png": "[encoded data removed]",
      "text/plain": [
       "<Figure size 432x288 with 1 Axes>"
      ]
     },
     "metadata": {
      "needs_background": "light"
     },
     "output_type": "display_data"
    }
   ],
   "source": [
    "pred_res['pred_completion'].hist()"
   ]
  },
  {
   "cell_type": "code",
   "execution_count": null,
   "metadata": {},
   "outputs": [],
   "source": []
  }
 ],
 "metadata": {
  "kernelspec": {
   "display_name": "Python 3",
   "language": "python",
   "name": "python3"
  },
  "language_info": {
   "codemirror_mode": {
    "name": "ipython",
    "version": 3
   },
   "file_extension": ".py",
   "mimetype": "text/x-python",
   "name": "python",
   "nbconvert_exporter": "python",
   "pygments_lexer": "ipython3",
   "version": "3.6.9"
  }
 },
 "nbformat": 4,
 "nbformat_minor": 4
}
