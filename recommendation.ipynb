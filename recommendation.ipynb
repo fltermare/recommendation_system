{
 "cells": [
  {
   "cell_type": "code",
   "execution_count": 1,
   "metadata": {},
   "outputs": [],
   "source": [
    "import numpy as np\n",
    "import pandas as pd\n",
    "import tensorflow as tf\n",
    "from sklearn.model_selection import train_test_split\n",
    "from sklearn.utils import shuffle\n",
    "from tensorflow.keras import optimizers\n",
    "from tensorflow.keras import backend as K\n",
    "from tensorflow.keras.callbacks import EarlyStopping, ModelCheckpoint\n",
    "from tensorflow.keras.layers import Add, Dense, Dot, Dropout, Embedding, Input, Reshape\n",
    "from tensorflow.keras.models import Model\n",
    "from tensorflow.keras.regularizers import l2"
   ]
  },
  {
   "cell_type": "markdown",
   "metadata": {},
   "source": [
    "# Load Dataset & Preprocessing"
   ]
  },
  {
   "cell_type": "code",
   "execution_count": 2,
   "metadata": {},
   "outputs": [],
   "source": [
    "ori_df = pd.read_csv(\"./collab_mapped.csv\")\n",
    "ori_df[\"completion\"] = ori_df[\"completion\"].clip(0, 1)"
   ]
  },
  {
   "cell_type": "code",
   "execution_count": 3,
   "metadata": {},
   "outputs": [
    {
     "data": {
      "text/plain": [
       "<AxesSubplot:>"
      ]
     },
     "execution_count": 3,
     "metadata": {},
     "output_type": "execute_result"
    },
    {
     "data": {
      "image/png": "[encoded data removed]",
      "text/plain": [
       "<Figure size 432x288 with 1 Axes>"
      ]
     },
     "metadata": {
      "needs_background": "light"
     },
     "output_type": "display_data"
    }
   ],
   "source": [
    "ori_df[\"completion\"].hist()"
   ]
  },
  {
   "cell_type": "markdown",
   "metadata": {},
   "source": [
    "### Sample data\n",
    "Try to make the dataset into a long tail distribution\n",
    "- undersample data (with completion == 1)"
   ]
  },
  {
   "cell_type": "code",
   "execution_count": 4,
   "metadata": {},
   "outputs": [],
   "source": [
    "# completion < 1\n",
    "df_less_than_1 = ori_df.loc[ori_df[\"completion\"] < 1]\n",
    "\n",
    "# undersample completion == 1 to (0.9 < completion < 1)\n",
    "desired_num_completion_equal_1 = ori_df.loc[(ori_df['completion'] > 0.9) & (ori_df['completion'] < 1)].shape[0]\n",
    "df_equal_1 = ori_df.loc[ori_df[\"completion\"] == 1].sample(desired_num_completion_equal_1)"
   ]
  },
  {
   "cell_type": "code",
   "execution_count": 5,
   "metadata": {},
   "outputs": [],
   "source": [
    "df = pd.concat([df_less_than_1, df_equal_1])"
   ]
  },
  {
   "cell_type": "code",
   "execution_count": 6,
   "metadata": {},
   "outputs": [
    {
     "data": {
      "text/plain": [
       "<AxesSubplot:>"
      ]
     },
     "execution_count": 6,
     "metadata": {},
     "output_type": "execute_result"
    },
    {
     "data": {
      "image/png": "[encoded data removed]",
      "text/plain": [
       "<Figure size 432x288 with 1 Axes>"
      ]
     },
     "metadata": {
      "needs_background": "light"
     },
     "output_type": "display_data"
    }
   ],
   "source": [
    "df[\"completion\"].hist()"
   ]
  },
  {
   "cell_type": "code",
   "execution_count": 7,
   "metadata": {},
   "outputs": [
    {
     "data": {
      "text/html": [
       "<div>\n",
       "<style scoped>\n",
       "    .dataframe tbody tr th:only-of-type {\n",
       "        vertical-align: middle;\n",
       "    }\n",
       "\n",
       "    .dataframe tbody tr th {\n",
       "        vertical-align: top;\n",
       "    }\n",
       "\n",
       "    .dataframe thead th {\n",
       "        text-align: right;\n",
       "    }\n",
       "</style>\n",
       "<table border=\"1\" class=\"dataframe\">\n",
       "  <thead>\n",
       "    <tr style=\"text-align: right;\">\n",
       "      <th></th>\n",
       "      <th>user_index</th>\n",
       "      <th>item_index</th>\n",
       "      <th>completion</th>\n",
       "    </tr>\n",
       "  </thead>\n",
       "  <tbody>\n",
       "    <tr>\n",
       "      <th>count</th>\n",
       "      <td>26285.000000</td>\n",
       "      <td>26285.000000</td>\n",
       "      <td>26285.000000</td>\n",
       "    </tr>\n",
       "    <tr>\n",
       "      <th>mean</th>\n",
       "      <td>234.375347</td>\n",
       "      <td>115.370554</td>\n",
       "      <td>0.211810</td>\n",
       "    </tr>\n",
       "    <tr>\n",
       "      <th>std</th>\n",
       "      <td>138.007537</td>\n",
       "      <td>72.731712</td>\n",
       "      <td>0.276236</td>\n",
       "    </tr>\n",
       "    <tr>\n",
       "      <th>min</th>\n",
       "      <td>0.000000</td>\n",
       "      <td>0.000000</td>\n",
       "      <td>0.000000</td>\n",
       "    </tr>\n",
       "    <tr>\n",
       "      <th>25%</th>\n",
       "      <td>111.000000</td>\n",
       "      <td>53.000000</td>\n",
       "      <td>0.033333</td>\n",
       "    </tr>\n",
       "    <tr>\n",
       "      <th>50%</th>\n",
       "      <td>234.000000</td>\n",
       "      <td>108.000000</td>\n",
       "      <td>0.068966</td>\n",
       "    </tr>\n",
       "    <tr>\n",
       "      <th>75%</th>\n",
       "      <td>355.000000</td>\n",
       "      <td>172.000000</td>\n",
       "      <td>0.310345</td>\n",
       "    </tr>\n",
       "    <tr>\n",
       "      <th>max</th>\n",
       "      <td>476.000000</td>\n",
       "      <td>267.000000</td>\n",
       "      <td>1.000000</td>\n",
       "    </tr>\n",
       "  </tbody>\n",
       "</table>\n",
       "</div>"
      ],
      "text/plain": [
       "         user_index    item_index    completion\n",
       "count  26285.000000  26285.000000  26285.000000\n",
       "mean     234.375347    115.370554      0.211810\n",
       "std      138.007537     72.731712      0.276236\n",
       "min        0.000000      0.000000      0.000000\n",
       "25%      111.000000     53.000000      0.033333\n",
       "50%      234.000000    108.000000      0.068966\n",
       "75%      355.000000    172.000000      0.310345\n",
       "max      476.000000    267.000000      1.000000"
      ]
     },
     "execution_count": 7,
     "metadata": {},
     "output_type": "execute_result"
    }
   ],
   "source": [
    "df.describe()"
   ]
  },
  {
   "cell_type": "code",
   "execution_count": 8,
   "metadata": {},
   "outputs": [],
   "source": [
    "uniq_user = df[\"user_index\"].unique()\n",
    "uniq_item = df[\"item_index\"].unique()\n",
    "assert len(uniq_user) == max(uniq_user) + 1\n",
    "assert len(uniq_item) == max(uniq_item) + 1"
   ]
  },
  {
   "cell_type": "markdown",
   "metadata": {},
   "source": [
    "# Config"
   ]
  },
  {
   "cell_type": "code",
   "execution_count": 9,
   "metadata": {},
   "outputs": [],
   "source": [
    "MODEL_PATH = \"./SavedModel/model.h5\"\n",
    "NUM_USER = len(df[\"user_index\"].unique())\n",
    "NUM_ITEM = len(df[\"item_index\"].unique())\n",
    "LATENT_DIM = 5"
   ]
  },
  {
   "cell_type": "markdown",
   "metadata": {},
   "source": [
    "# Training"
   ]
  },
  {
   "cell_type": "code",
   "execution_count": 10,
   "metadata": {},
   "outputs": [],
   "source": [
    "def gen_dataset(df, test_size=0.2):\n",
    "    # Shuffle\n",
    "    df = shuffle(df)\n",
    "\n",
    "    # Split\n",
    "    X, y = df[[\"user_index\", \"item_index\"]].values, df[[\"completion\"]].values\n",
    "    X_train, X_test, y_train, y_test = train_test_split(X, y, test_size=test_size)\n",
    "    \n",
    "    return X_train, X_test, y_train, y_test"
   ]
  },
  {
   "cell_type": "code",
   "execution_count": 11,
   "metadata": {},
   "outputs": [],
   "source": [
    "def mf_model(n_user, n_item, latent_dim):\n",
    "    \"\"\" Matrix factorization model\n",
    "    \"\"\"\n",
    "\n",
    "    # Input\n",
    "    user_input = Input(shape=[1])\n",
    "    item_input = Input(shape=[1])\n",
    "    \n",
    "    # To Latent Vector\n",
    "    user_latent = Embedding(n_user, latent_dim, embeddings_initializer=\"lecun_uniform\",\n",
    "                            embeddings_regularizer=l2(1e-5))(user_input)\n",
    "    user_latent = Reshape((latent_dim,))(user_latent)\n",
    "    user_latent = Dropout(0.1)(user_latent)\n",
    "    \n",
    "    item_latent = Embedding(n_item, latent_dim, embeddings_initializer=\"lecun_uniform\",\n",
    "                            embeddings_regularizer=l2(1e-5))(item_input)\n",
    "    item_latent = Reshape((latent_dim,))(item_latent)\n",
    "    item_latent = Dropout(0.1)(item_latent)\n",
    "\n",
    "    # Add Bias\n",
    "    user_bias = Embedding(n_user, 1, embeddings_regularizer=l2(1e-5))(user_input)\n",
    "    user_bias = Reshape((1,))(user_bias)\n",
    "    \n",
    "    item_bias = Embedding(n_item, 1, embeddings_regularizer=l2(1e-5))(item_input)\n",
    "    item_bias = Reshape((1,))(item_bias)\n",
    "    \n",
    "    # Dot\n",
    "    r_hat = Dot(axes=-1)([user_latent, item_latent])\n",
    "    r_hat = Add()([r_hat, user_bias, item_bias])    \n",
    "    output = Dense(1, kernel_regularizer=l2(0.01))(r_hat)\n",
    "    \n",
    "    model = Model(inputs=[user_input, item_input], outputs=[output])\n",
    "\n",
    "    return model"
   ]
  },
  {
   "cell_type": "code",
   "execution_count": 12,
   "metadata": {},
   "outputs": [],
   "source": [
    "def train_model(df, latent_dim=20):\n",
    "    # Load data\n",
    "    X_train, X_test, y_train, y_test = gen_dataset(df)\n",
    "    \n",
    "    # Load matrix factorization model\n",
    "    model = mf_model(NUM_USER, NUM_ITEM, latent_dim)\n",
    "    model.compile(loss=\"mae\", optimizer=optimizers.Adam(), metrics=[\"mae\"])\n",
    "    model.summary()\n",
    "    \n",
    "    # callbacks\n",
    "    early_stop = EarlyStopping(monitor=\"val_mae\", patience=3)\n",
    "    checkpoint_filepath = MODEL_PATH\n",
    "    model_checkpoint = ModelCheckpoint(\n",
    "        filepath=checkpoint_filepath,\n",
    "        save_weights_only=True,\n",
    "        monitor=\"val_mae\",\n",
    "        verbose=1,\n",
    "        save_best_only=True,\n",
    "    )\n",
    "    \n",
    "    # Train Model\n",
    "    history = model.fit([X_train[:, 0], X_train[:, 1]], [y_train],\n",
    "                        validation_data=([X_test[:, 0], X_test[:, 1]], [y_test]),\n",
    "                        batch_size=512,\n",
    "                        epochs=50,\n",
    "                        callbacks=[early_stop, model_checkpoint])\n",
    "    \n",
    "    # Save Model\n",
    "    model.save(checkpoint_filepath)\n",
    "\n",
    "    return model, history"
   ]
  },
  {
   "cell_type": "code",
   "execution_count": 13,
   "metadata": {},
   "outputs": [
    {
     "name": "stdout",
     "output_type": "stream",
     "text": [
      "Model: \"functional_1\"\n",
      "__________________________________________________________________________________________________\n",
      "Layer (type)                    Output Shape         Param #     Connected to                     \n",
      "==================================================================================================\n",
      "input_1 (InputLayer)            [(None, 1)]          0                                            \n",
      "__________________________________________________________________________________________________\n",
      "input_2 (InputLayer)            [(None, 1)]          0                                            \n",
      "__________________________________________________________________________________________________\n",
      "embedding (Embedding)           (None, 1, 5)         2385        input_1[0][0]                    \n",
      "__________________________________________________________________________________________________\n",
      "embedding_1 (Embedding)         (None, 1, 5)         1340        input_2[0][0]                    \n",
      "__________________________________________________________________________________________________\n",
      "reshape (Reshape)               (None, 5)            0           embedding[0][0]                  \n",
      "__________________________________________________________________________________________________\n",
      "reshape_1 (Reshape)             (None, 5)            0           embedding_1[0][0]                \n",
      "__________________________________________________________________________________________________\n",
      "dropout (Dropout)               (None, 5)            0           reshape[0][0]                    \n",
      "__________________________________________________________________________________________________\n",
      "dropout_1 (Dropout)             (None, 5)            0           reshape_1[0][0]                  \n",
      "__________________________________________________________________________________________________\n",
      "embedding_2 (Embedding)         (None, 1, 1)         477         input_1[0][0]                    \n",
      "__________________________________________________________________________________________________\n",
      "embedding_3 (Embedding)         (None, 1, 1)         268         input_2[0][0]                    \n",
      "__________________________________________________________________________________________________\n",
      "dot (Dot)                       (None, 1)            0           dropout[0][0]                    \n",
      "                                                                 dropout_1[0][0]                  \n",
      "__________________________________________________________________________________________________\n",
      "reshape_2 (Reshape)             (None, 1)            0           embedding_2[0][0]                \n",
      "__________________________________________________________________________________________________\n",
      "reshape_3 (Reshape)             (None, 1)            0           embedding_3[0][0]                \n",
      "__________________________________________________________________________________________________\n",
      "add (Add)                       (None, 1)            0           dot[0][0]                        \n",
      "                                                                 reshape_2[0][0]                  \n",
      "                                                                 reshape_3[0][0]                  \n",
      "__________________________________________________________________________________________________\n",
      "dense (Dense)                   (None, 1)            2           add[0][0]                        \n",
      "==================================================================================================\n",
      "Total params: 4,472\n",
      "Trainable params: 4,472\n",
      "Non-trainable params: 0\n",
      "__________________________________________________________________________________________________\n",
      "Epoch 1/50\n"
     ]
    },
    {
     "name": "stderr",
     "output_type": "stream",
     "text": [
      "/home/user/Projects/garena/ENV/lib/python3.8/site-packages/tensorflow/python/framework/indexed_slices.py:432: UserWarning: Converting sparse IndexedSlices to a dense Tensor of unknown shape. This may consume a large amount of memory.\n",
      "  warnings.warn(\n"
     ]
    },
    {
     "name": "stdout",
     "output_type": "stream",
     "text": [
      "24/42 [================>.............] - ETA: 0s - loss: 0.2240 - mae: 0.2057\n",
      "Epoch 00001: val_mae improved from inf to 0.18622, saving model to ./SavedModel/model.h5\n",
      "42/42 [==============================] - 0s 6ms/step - loss: 0.2169 - mae: 0.1989 - val_loss: 0.2037 - val_mae: 0.1862\n",
      "Epoch 2/50\n",
      "25/42 [================>.............] - ETA: 0s - loss: 0.1937 - mae: 0.1764\n",
      "Epoch 00002: val_mae improved from 0.18622 to 0.17501, saving model to ./SavedModel/model.h5\n",
      "42/42 [==============================] - 0s 3ms/step - loss: 0.1911 - mae: 0.1740 - val_loss: 0.1917 - val_mae: 0.1750\n",
      "Epoch 3/50\n",
      "24/42 [================>.............] - ETA: 0s - loss: 0.1823 - mae: 0.1659\n",
      "Epoch 00003: val_mae improved from 0.17501 to 0.17006, saving model to ./SavedModel/model.h5\n",
      "42/42 [==============================] - 0s 3ms/step - loss: 0.1817 - mae: 0.1654 - val_loss: 0.1860 - val_mae: 0.1701\n",
      "Epoch 4/50\n",
      "38/42 [==========================>...] - ETA: 0s - loss: 0.1759 - mae: 0.1604\n",
      "Epoch 00004: val_mae improved from 0.17006 to 0.16759, saving model to ./SavedModel/model.h5\n",
      "42/42 [==============================] - 0s 4ms/step - loss: 0.1768 - mae: 0.1613 - val_loss: 0.1827 - val_mae: 0.1676\n",
      "Epoch 5/50\n",
      "23/42 [===============>..............] - ETA: 0s - loss: 0.1742 - mae: 0.1593\n",
      "Epoch 00005: val_mae improved from 0.16759 to 0.16630, saving model to ./SavedModel/model.h5\n",
      "42/42 [==============================] - 0s 3ms/step - loss: 0.1736 - mae: 0.1588 - val_loss: 0.1807 - val_mae: 0.1663\n",
      "Epoch 6/50\n",
      "19/42 [============>.................] - ETA: 0s - loss: 0.1695 - mae: 0.1553\n",
      "Epoch 00006: val_mae improved from 0.16630 to 0.16536, saving model to ./SavedModel/model.h5\n",
      "42/42 [==============================] - 0s 3ms/step - loss: 0.1712 - mae: 0.1572 - val_loss: 0.1790 - val_mae: 0.1654\n",
      "Epoch 7/50\n",
      "31/42 [=====================>........] - ETA: 0s - loss: 0.1674 - mae: 0.1540\n",
      "Epoch 00007: val_mae improved from 0.16536 to 0.16477, saving model to ./SavedModel/model.h5\n",
      "42/42 [==============================] - 0s 4ms/step - loss: 0.1693 - mae: 0.1559 - val_loss: 0.1778 - val_mae: 0.1648\n",
      "Epoch 8/50\n",
      "28/42 [===================>..........] - ETA: 0s - loss: 0.1679 - mae: 0.1551\n",
      "Epoch 00008: val_mae improved from 0.16477 to 0.16421, saving model to ./SavedModel/model.h5\n",
      "42/42 [==============================] - 0s 3ms/step - loss: 0.1675 - mae: 0.1549 - val_loss: 0.1765 - val_mae: 0.1642\n",
      "Epoch 9/50\n",
      "39/42 [==========================>...] - ETA: 0s - loss: 0.1656 - mae: 0.1536\n",
      "Epoch 00009: val_mae improved from 0.16421 to 0.16383, saving model to ./SavedModel/model.h5\n",
      "42/42 [==============================] - 0s 4ms/step - loss: 0.1659 - mae: 0.1539 - val_loss: 0.1755 - val_mae: 0.1638\n",
      "Epoch 10/50\n",
      "32/42 [=====================>........] - ETA: 0s - loss: 0.1623 - mae: 0.1508\n",
      "Epoch 00010: val_mae improved from 0.16383 to 0.16349, saving model to ./SavedModel/model.h5\n",
      "42/42 [==============================] - 0s 2ms/step - loss: 0.1646 - mae: 0.1531 - val_loss: 0.1746 - val_mae: 0.1635\n",
      "Epoch 11/50\n",
      "36/42 [========================>.....] - ETA: 0s - loss: 0.1626 - mae: 0.1517\n",
      "Epoch 00011: val_mae improved from 0.16349 to 0.16327, saving model to ./SavedModel/model.h5\n",
      "42/42 [==============================] - 0s 4ms/step - loss: 0.1631 - mae: 0.1522 - val_loss: 0.1739 - val_mae: 0.1633\n",
      "Epoch 12/50\n",
      "35/42 [========================>.....] - ETA: 0s - loss: 0.1615 - mae: 0.1511\n",
      "Epoch 00012: val_mae improved from 0.16327 to 0.16304, saving model to ./SavedModel/model.h5\n",
      "42/42 [==============================] - 0s 5ms/step - loss: 0.1618 - mae: 0.1515 - val_loss: 0.1732 - val_mae: 0.1630\n",
      "Epoch 13/50\n",
      "38/42 [==========================>...] - ETA: 0s - loss: 0.1605 - mae: 0.1506\n",
      "Epoch 00013: val_mae improved from 0.16304 to 0.16284, saving model to ./SavedModel/model.h5\n",
      "42/42 [==============================] - 0s 6ms/step - loss: 0.1606 - mae: 0.1507 - val_loss: 0.1725 - val_mae: 0.1628\n",
      "Epoch 14/50\n",
      "42/42 [==============================] - ETA: 0s - loss: 0.1595 - mae: 0.1499\n",
      "Epoch 00014: val_mae improved from 0.16284 to 0.16252, saving model to ./SavedModel/model.h5\n",
      "42/42 [==============================] - 0s 5ms/step - loss: 0.1595 - mae: 0.1499 - val_loss: 0.1718 - val_mae: 0.1625\n",
      "Epoch 15/50\n",
      "33/42 [======================>.......] - ETA: 0s - loss: 0.1579 - mae: 0.1487\n",
      "Epoch 00015: val_mae improved from 0.16252 to 0.16246, saving model to ./SavedModel/model.h5\n",
      "42/42 [==============================] - 0s 3ms/step - loss: 0.1581 - mae: 0.1490 - val_loss: 0.1714 - val_mae: 0.1625\n",
      "Epoch 16/50\n",
      "40/42 [===========================>..] - ETA: 0s - loss: 0.1575 - mae: 0.1486\n",
      "Epoch 00016: val_mae improved from 0.16246 to 0.16214, saving model to ./SavedModel/model.h5\n",
      "42/42 [==============================] - 0s 5ms/step - loss: 0.1571 - mae: 0.1482 - val_loss: 0.1708 - val_mae: 0.1621\n",
      "Epoch 17/50\n",
      "38/42 [==========================>...] - ETA: 0s - loss: 0.1566 - mae: 0.1480\n",
      "Epoch 00017: val_mae improved from 0.16214 to 0.16210, saving model to ./SavedModel/model.h5\n",
      "42/42 [==============================] - 0s 5ms/step - loss: 0.1562 - mae: 0.1476 - val_loss: 0.1705 - val_mae: 0.1621\n",
      "Epoch 18/50\n",
      "35/42 [========================>.....] - ETA: 0s - loss: 0.1545 - mae: 0.1462\n",
      "Epoch 00018: val_mae improved from 0.16210 to 0.16179, saving model to ./SavedModel/model.h5\n",
      "42/42 [==============================] - 0s 4ms/step - loss: 0.1551 - mae: 0.1469 - val_loss: 0.1699 - val_mae: 0.1618\n",
      "Epoch 19/50\n",
      "36/42 [========================>.....] - ETA: 0s - loss: 0.1542 - mae: 0.1461\n",
      "Epoch 00019: val_mae improved from 0.16179 to 0.16162, saving model to ./SavedModel/model.h5\n",
      "42/42 [==============================] - 0s 4ms/step - loss: 0.1543 - mae: 0.1462 - val_loss: 0.1696 - val_mae: 0.1616\n",
      "Epoch 20/50\n",
      "40/42 [===========================>..] - ETA: 0s - loss: 0.1533 - mae: 0.1454\n",
      "Epoch 00020: val_mae improved from 0.16162 to 0.16148, saving model to ./SavedModel/model.h5\n",
      "42/42 [==============================] - 0s 4ms/step - loss: 0.1532 - mae: 0.1453 - val_loss: 0.1693 - val_mae: 0.1615\n",
      "Epoch 21/50\n",
      "39/42 [==========================>...] - ETA: 0s - loss: 0.1534 - mae: 0.1456\n",
      "Epoch 00021: val_mae improved from 0.16148 to 0.16140, saving model to ./SavedModel/model.h5\n",
      "42/42 [==============================] - 0s 3ms/step - loss: 0.1525 - mae: 0.1447 - val_loss: 0.1691 - val_mae: 0.1614\n",
      "Epoch 22/50\n",
      "28/42 [===================>..........] - ETA: 0s - loss: 0.1512 - mae: 0.1436\n",
      "Epoch 00022: val_mae improved from 0.16140 to 0.16128, saving model to ./SavedModel/model.h5\n",
      "42/42 [==============================] - 0s 3ms/step - loss: 0.1517 - mae: 0.1441 - val_loss: 0.1688 - val_mae: 0.1613\n",
      "Epoch 23/50\n",
      "24/42 [================>.............] - ETA: 0s - loss: 0.1484 - mae: 0.1409\n",
      "Epoch 00023: val_mae improved from 0.16128 to 0.16111, saving model to ./SavedModel/model.h5\n",
      "42/42 [==============================] - 0s 3ms/step - loss: 0.1508 - mae: 0.1433 - val_loss: 0.1685 - val_mae: 0.1611\n",
      "Epoch 24/50\n",
      "36/42 [========================>.....] - ETA: 0s - loss: 0.1501 - mae: 0.1428\n",
      "Epoch 00024: val_mae improved from 0.16111 to 0.16105, saving model to ./SavedModel/model.h5\n",
      "42/42 [==============================] - 0s 4ms/step - loss: 0.1502 - mae: 0.1429 - val_loss: 0.1683 - val_mae: 0.1611\n",
      "Epoch 25/50\n",
      "28/42 [===================>..........] - ETA: 0s - loss: 0.1499 - mae: 0.1427\n",
      "Epoch 00025: val_mae improved from 0.16105 to 0.16084, saving model to ./SavedModel/model.h5\n",
      "42/42 [==============================] - 0s 3ms/step - loss: 0.1495 - mae: 0.1423 - val_loss: 0.1680 - val_mae: 0.1608\n",
      "Epoch 26/50\n",
      "30/42 [====================>.........] - ETA: 0s - loss: 0.1471 - mae: 0.1400\n",
      "Epoch 00026: val_mae improved from 0.16084 to 0.16076, saving model to ./SavedModel/model.h5\n",
      "42/42 [==============================] - 0s 3ms/step - loss: 0.1490 - mae: 0.1419 - val_loss: 0.1678 - val_mae: 0.1608\n",
      "Epoch 27/50\n",
      "27/42 [==================>...........] - ETA: 0s - loss: 0.1485 - mae: 0.1414\n",
      "Epoch 00027: val_mae did not improve from 0.16076\n",
      "42/42 [==============================] - 0s 2ms/step - loss: 0.1484 - mae: 0.1414 - val_loss: 0.1678 - val_mae: 0.1608\n",
      "Epoch 28/50\n",
      "27/42 [==================>...........] - ETA: 0s - loss: 0.1480 - mae: 0.1411\n",
      "Epoch 00028: val_mae improved from 0.16076 to 0.16076, saving model to ./SavedModel/model.h5\n",
      "42/42 [==============================] - 0s 3ms/step - loss: 0.1477 - mae: 0.1407 - val_loss: 0.1677 - val_mae: 0.1608\n",
      "Epoch 29/50\n",
      "32/42 [=====================>........] - ETA: 0s - loss: 0.1469 - mae: 0.1400\n",
      "Epoch 00029: val_mae improved from 0.16076 to 0.16065, saving model to ./SavedModel/model.h5\n",
      "42/42 [==============================] - 0s 3ms/step - loss: 0.1474 - mae: 0.1405 - val_loss: 0.1675 - val_mae: 0.1607\n",
      "Epoch 30/50\n",
      "23/42 [===============>..............] - ETA: 0s - loss: 0.1463 - mae: 0.1395\n",
      "Epoch 00030: val_mae improved from 0.16065 to 0.16062, saving model to ./SavedModel/model.h5\n",
      "42/42 [==============================] - 0s 3ms/step - loss: 0.1469 - mae: 0.1401 - val_loss: 0.1674 - val_mae: 0.1606\n",
      "Epoch 31/50\n",
      "21/42 [==============>...............] - ETA: 0s - loss: 0.1474 - mae: 0.1407\n",
      "Epoch 00031: val_mae improved from 0.16062 to 0.16059, saving model to ./SavedModel/model.h5\n",
      "42/42 [==============================] - 0s 3ms/step - loss: 0.1467 - mae: 0.1400 - val_loss: 0.1673 - val_mae: 0.1606\n",
      "Epoch 32/50\n",
      "33/42 [======================>.......] - ETA: 0s - loss: 0.1459 - mae: 0.1392\n",
      "Epoch 00032: val_mae did not improve from 0.16059\n",
      "42/42 [==============================] - 0s 4ms/step - loss: 0.1461 - mae: 0.1395 - val_loss: 0.1673 - val_mae: 0.1606\n",
      "Epoch 33/50\n",
      "25/42 [================>.............] - ETA: 0s - loss: 0.1471 - mae: 0.1405\n",
      "Epoch 00033: val_mae did not improve from 0.16059\n",
      "42/42 [==============================] - 0s 3ms/step - loss: 0.1454 - mae: 0.1388 - val_loss: 0.1673 - val_mae: 0.1607\n",
      "Epoch 34/50\n",
      "28/42 [===================>..........] - ETA: 0s - loss: 0.1433 - mae: 0.1368\n",
      "Epoch 00034: val_mae did not improve from 0.16059\n",
      "42/42 [==============================] - 0s 3ms/step - loss: 0.1451 - mae: 0.1386 - val_loss: 0.1671 - val_mae: 0.1606\n"
     ]
    }
   ],
   "source": [
    "model, history = train_model(df, latent_dim=LATENT_DIM)"
   ]
  },
  {
   "cell_type": "markdown",
   "metadata": {},
   "source": [
    "# Training Process"
   ]
  },
  {
   "cell_type": "code",
   "execution_count": 14,
   "metadata": {},
   "outputs": [],
   "source": [
    "import matplotlib.pyplot as plt\n",
    "\n",
    "def show_train_history(history, train_metric, test_metric):\n",
    "    plt.plot(history.history[train_metric])\n",
    "    plt.plot(history.history[test_metric])\n",
    "    plt.title(\"Train History\")\n",
    "    plt.ylabel(train_metric)\n",
    "    plt.xlabel(\"Epoch\")\n",
    "    plt.legend([\"train\", \"test\"], loc=\"upper right\")\n",
    "    plt.show()"
   ]
  },
  {
   "cell_type": "code",
   "execution_count": 15,
   "metadata": {},
   "outputs": [
    {
     "data": {
      "image/png": "[encoded data removed]",
      "text/plain": [
       "<Figure size 432x288 with 1 Axes>"
      ]
     },
     "metadata": {
      "needs_background": "light"
     },
     "output_type": "display_data"
    }
   ],
   "source": [
    "show_train_history(history, \"mae\", \"val_mae\")"
   ]
  },
  {
   "cell_type": "markdown",
   "metadata": {},
   "source": [
    "# Predict simulated data"
   ]
  },
  {
   "cell_type": "code",
   "execution_count": 16,
   "metadata": {},
   "outputs": [],
   "source": [
    "def predict(df):\n",
    "    # Load model\n",
    "    model_save_path = MODEL_PATH\n",
    "    model = tf.keras.models.load_model(model_save_path)\n",
    "\n",
    "    # Simulated predict data; 10% of whole data\n",
    "    pred_df = df[[\"user_index\", \"item_index\"]].sample(frac=0.1)\n",
    "    pred = pred_df.values\n",
    "    predition = model.predict([pred[:, 0], pred[:, 1]])\n",
    "\n",
    "    # Construct Result\n",
    "    pred_df[\"pred_completion\"] = predition.clip(0, 1)\n",
    "    return pred_df"
   ]
  },
  {
   "cell_type": "code",
   "execution_count": 17,
   "metadata": {},
   "outputs": [
    {
     "data": {
      "text/html": [
       "<div>\n",
       "<style scoped>\n",
       "    .dataframe tbody tr th:only-of-type {\n",
       "        vertical-align: middle;\n",
       "    }\n",
       "\n",
       "    .dataframe tbody tr th {\n",
       "        vertical-align: top;\n",
       "    }\n",
       "\n",
       "    .dataframe thead th {\n",
       "        text-align: right;\n",
       "    }\n",
       "</style>\n",
       "<table border=\"1\" class=\"dataframe\">\n",
       "  <thead>\n",
       "    <tr style=\"text-align: right;\">\n",
       "      <th></th>\n",
       "      <th>user_index</th>\n",
       "      <th>item_index</th>\n",
       "      <th>pred_completion</th>\n",
       "    </tr>\n",
       "  </thead>\n",
       "  <tbody>\n",
       "    <tr>\n",
       "      <th>15562</th>\n",
       "      <td>210</td>\n",
       "      <td>28</td>\n",
       "      <td>0.000000</td>\n",
       "    </tr>\n",
       "    <tr>\n",
       "      <th>6053</th>\n",
       "      <td>237</td>\n",
       "      <td>91</td>\n",
       "      <td>0.000000</td>\n",
       "    </tr>\n",
       "    <tr>\n",
       "      <th>20275</th>\n",
       "      <td>423</td>\n",
       "      <td>190</td>\n",
       "      <td>0.054302</td>\n",
       "    </tr>\n",
       "    <tr>\n",
       "      <th>7665</th>\n",
       "      <td>250</td>\n",
       "      <td>75</td>\n",
       "      <td>0.000000</td>\n",
       "    </tr>\n",
       "    <tr>\n",
       "      <th>17476</th>\n",
       "      <td>393</td>\n",
       "      <td>130</td>\n",
       "      <td>0.032316</td>\n",
       "    </tr>\n",
       "    <tr>\n",
       "      <th>...</th>\n",
       "      <td>...</td>\n",
       "      <td>...</td>\n",
       "      <td>...</td>\n",
       "    </tr>\n",
       "    <tr>\n",
       "      <th>7694</th>\n",
       "      <td>118</td>\n",
       "      <td>243</td>\n",
       "      <td>0.341909</td>\n",
       "    </tr>\n",
       "    <tr>\n",
       "      <th>16075</th>\n",
       "      <td>259</td>\n",
       "      <td>108</td>\n",
       "      <td>0.227158</td>\n",
       "    </tr>\n",
       "    <tr>\n",
       "      <th>3979</th>\n",
       "      <td>160</td>\n",
       "      <td>220</td>\n",
       "      <td>0.175575</td>\n",
       "    </tr>\n",
       "    <tr>\n",
       "      <th>23028</th>\n",
       "      <td>43</td>\n",
       "      <td>28</td>\n",
       "      <td>0.047025</td>\n",
       "    </tr>\n",
       "    <tr>\n",
       "      <th>28845</th>\n",
       "      <td>380</td>\n",
       "      <td>119</td>\n",
       "      <td>0.379277</td>\n",
       "    </tr>\n",
       "  </tbody>\n",
       "</table>\n",
       "<p>2628 rows × 3 columns</p>\n",
       "</div>"
      ],
      "text/plain": [
       "       user_index  item_index  pred_completion\n",
       "15562         210          28         0.000000\n",
       "6053          237          91         0.000000\n",
       "20275         423         190         0.054302\n",
       "7665          250          75         0.000000\n",
       "17476         393         130         0.032316\n",
       "...           ...         ...              ...\n",
       "7694          118         243         0.341909\n",
       "16075         259         108         0.227158\n",
       "3979          160         220         0.175575\n",
       "23028          43          28         0.047025\n",
       "28845         380         119         0.379277\n",
       "\n",
       "[2628 rows x 3 columns]"
      ]
     },
     "execution_count": 17,
     "metadata": {},
     "output_type": "execute_result"
    }
   ],
   "source": [
    "pred_res = predict(df)\n",
    "pred_res"
   ]
  },
  {
   "cell_type": "code",
   "execution_count": 18,
   "metadata": {},
   "outputs": [
    {
     "data": {
      "text/plain": [
       "<AxesSubplot:>"
      ]
     },
     "execution_count": 18,
     "metadata": {},
     "output_type": "execute_result"
    },
    {
     "data": {
      "image/png": "[encoded data removed]",
      "text/plain": [
       "<Figure size 432x288 with 1 Axes>"
      ]
     },
     "metadata": {
      "needs_background": "light"
     },
     "output_type": "display_data"
    }
   ],
   "source": [
    "pred_res['pred_completion'].hist()"
   ]
  },
  {
   "cell_type": "code",
   "execution_count": null,
   "metadata": {},
   "outputs": [],
   "source": []
  }
 ],
 "metadata": {
  "kernelspec": {
   "display_name": "Python 3",
   "language": "python",
   "name": "python3"
  },
  "language_info": {
   "codemirror_mode": {
    "name": "ipython",
    "version": 3
   },
   "file_extension": ".py",
   "mimetype": "text/x-python",
   "name": "python",
   "nbconvert_exporter": "python",
   "pygments_lexer": "ipython3",
   "version": "3.8.5"
  }
 },
 "nbformat": 4,
 "nbformat_minor": 4
}
